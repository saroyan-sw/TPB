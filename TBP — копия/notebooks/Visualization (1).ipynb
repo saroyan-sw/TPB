{
  "cells": [
    {
      "cell_type": "code",
      "execution_count": null,
      "id": "95b3d22a-cafe-4729-b105-d341ddae34ff",
      "metadata": {
        "id": "95b3d22a-cafe-4729-b105-d341ddae34ff"
      },
      "outputs": [],
      "source": [
        "import pandas as pd\n",
        "import numpy as np\n",
        "import matplotlib.pyplot as plt"
      ]
    },
    {
      "cell_type": "code",
      "execution_count": null,
      "id": "4e4c9c72-d43d-421f-ab72-6fcd47ace286",
      "metadata": {
        "id": "4e4c9c72-d43d-421f-ab72-6fcd47ace286"
      },
      "outputs": [],
      "source": [
        "df = pd.read_csv('..\\\\data\\\\processed\\\\output.csv')"
      ]
    },
    {
      "cell_type": "markdown",
      "source": [
        "**Creating The Time Column**"
      ],
      "metadata": {
        "id": "tUnFG3N5oCRp"
      },
      "id": "tUnFG3N5oCRp"
    },
    {
      "cell_type": "code",
      "execution_count": null,
      "id": "e100db25-f4af-4663-a8cb-496e3ab0d1d0",
      "metadata": {
        "id": "e100db25-f4af-4663-a8cb-496e3ab0d1d0"
      },
      "outputs": [],
      "source": [
        "t = np.arange(1,2001).tolist() * 500\n",
        "df['t'] = t"
      ]
    },
    {
      "cell_type": "markdown",
      "source": [
        "**Finding Mass Centers and Adding its Clumns**"
      ],
      "metadata": {
        "id": "cwBDO-m5obQ3"
      },
      "id": "cwBDO-m5obQ3"
    },
    {
      "cell_type": "code",
      "source": [
        "df['mass_centre_x'] = (df['r1_x'] + df['r2_x'] + df['r3_x']) / 3\n",
        "df['mass_centre_y'] = (df['r1_y'] + df['r2_y'] + df['r3_y']) / 3\n",
        "df['mass_centre_z'] = (df['r1_z'] + df['r2_z'] + df['r3_z']) / 3"
      ],
      "metadata": {
        "id": "8dut_vkloZqc"
      },
      "id": "8dut_vkloZqc",
      "execution_count": null,
      "outputs": []
    },
    {
      "cell_type": "markdown",
      "source": [
        "**Calculating Mass Center Velocity projections**"
      ],
      "metadata": {
        "id": "Dy2uH2mhbdOl"
      },
      "id": "Dy2uH2mhbdOl"
    },
    {
      "cell_type": "code",
      "source": [
        "df['mass_centre_vx'] = (df['v1_x'] + df['v2_x'] + df['v3_x']) / 3\n",
        "df['mass_centre_ax'] = (df['a1_x'] + df['a2_x'] + df['a3_x']) / 3\n",
        "df['mass_centre_vy'] = (df['v1_y'] + df['v2_y'] + df['v3_y']) / 3\n",
        "df['mass_centre_ay'] = (df['a1_y'] + df['a2_y'] + df['a3_y']) / 3\n",
        "df['mass_centre_vz'] = (df['v1_z'] + df['v2_z'] + df['v3_z']) / 3\n",
        "df['mass_centre_az'] = (df['a1_z'] + df['a2_z'] + df['a3_z']) / 3\n",
        "df['mass_centre_v'] = np.sqrt((df['mass_centre_vx'])**2 + (df['mass_centre_vy'])**2 + (df['mass_centre_vx'])**2)"
      ],
      "metadata": {
        "id": "-YeZiHKHbnzQ"
      },
      "id": "-YeZiHKHbnzQ",
      "execution_count": null,
      "outputs": []
    },
    {
      "cell_type": "markdown",
      "source": [
        "**Arrangement of bodies in space**"
      ],
      "metadata": {
        "id": "nosy6wn9pWBn"
      },
      "id": "nosy6wn9pWBn"
    },
    {
      "cell_type": "code",
      "execution_count": null,
      "id": "9ec7ded1-e000-4262-808c-735411e72ce8",
      "metadata": {
        "id": "9ec7ded1-e000-4262-808c-735411e72ce8"
      },
      "outputs": [],
      "source": [
        "x = np.array(df['r1_x'])\n",
        "y = np.array(df['r1_y'])\n",
        "z = np.array(df['r1_z'])\n",
        "ax = plt.axes(projection='3d')\n",
        "ax.scatter3D(x, y, z, 'gray')\n"
      ]
    },
    {
      "cell_type": "code",
      "execution_count": null,
      "id": "b1f7604b-8f28-49ff-bcfc-fb43b77de861",
      "metadata": {
        "id": "b1f7604b-8f28-49ff-bcfc-fb43b77de861"
      },
      "outputs": [],
      "source": [
        "x = np.array(df['r2_x'])\n",
        "y = np.array(df['r2_y'])\n",
        "z = np.array(df['r2_z'])\n",
        "ax = plt.axes(projection='3d')\n",
        "ax.scatter3D(x, y, z, 'gray')"
      ]
    },
    {
      "cell_type": "code",
      "execution_count": null,
      "id": "996c373a-4f8c-4e36-98ad-e6e12f6f1bd1",
      "metadata": {
        "id": "996c373a-4f8c-4e36-98ad-e6e12f6f1bd1"
      },
      "outputs": [],
      "source": [
        "x = np.array(df['r3_x'])\n",
        "y = np.array(df['r3_y'])\n",
        "z = np.array(df['r3_z'])\n",
        "ax = plt.axes(projection='3d')\n",
        "ax.scatter3D(x, y, z, 'gray')"
      ]
    },
    {
      "cell_type": "markdown",
      "id": "0xHSm3SRYp41",
      "metadata": {
        "id": "0xHSm3SRYp41"
      },
      "source": []
    },
    {
      "cell_type": "markdown",
      "source": [
        "**Arrangment of Center of Masses**"
      ],
      "metadata": {
        "id": "yg10LimgqWr-"
      },
      "id": "yg10LimgqWr-"
    },
    {
      "cell_type": "code",
      "execution_count": null,
      "id": "ae120d52-612b-4ae3-8ce5-404c6e46a5a3",
      "metadata": {
        "id": "ae120d52-612b-4ae3-8ce5-404c6e46a5a3"
      },
      "outputs": [],
      "source": [
        "x = np.array(df['mass_centre_x'])\n",
        "y = np.array(df['mass_centre_y'])\n",
        "z = np.array(df['mass_centre_z'])\n",
        "ax = plt.axes(projection='3d')\n",
        "ax.scatter3D(x, y, z, 'gray')"
      ]
    },
    {
      "cell_type": "markdown",
      "source": [
        "**Calculatin the Velocity of Mass Centre**"
      ],
      "metadata": {
        "id": "o5SMRGR-Wac_"
      },
      "id": "o5SMRGR-Wac_"
    },
    {
      "cell_type": "markdown",
      "source": [
        "# Consider one-dimensional motion"
      ],
      "metadata": {
        "id": "pFJfnThkwkUT"
      },
      "id": "pFJfnThkwkUT"
    },
    {
      "cell_type": "markdown",
      "source": [
        "## X component"
      ],
      "metadata": {
        "id": "IIBWfVwJZ0eW"
      },
      "id": "IIBWfVwJZ0eW"
    },
    {
      "cell_type": "code",
      "source": [
        "df['target_x'] = np.nan"
      ],
      "metadata": {
        "id": "uyRBS5IFl5AU"
      },
      "id": "uyRBS5IFl5AU",
      "execution_count": null,
      "outputs": []
    },
    {
      "cell_type": "code",
      "execution_count": null,
      "id": "yqFmzhlmYoUx",
      "metadata": {
        "id": "yqFmzhlmYoUx"
      },
      "outputs": [],
      "source": [
        "df['target_x'][0] = df['mass_centre_x'][1]\n",
        "m = 'mass_centre_x'\n",
        "n = 'target_x'\n",
        "def update_target_x(m,n,df):\n",
        "    \"\"\"\n",
        "    Update the 'n' column in a DataFrame based on the 'm' column.\n",
        "\n",
        "    Parameters:\n",
        "    - m (str): The column name whose values are used for updating.\n",
        "    - n (str): The column name to be updated.\n",
        "    - df (pd.DataFrame): The input DataFrame containing the specified columns.\n",
        "\n",
        "    Returns:\n",
        "    - None\n",
        "\n",
        "    Example:\n",
        "    ```python\n",
        "    import pandas as pd\n",
        "    import numpy as np\n",
        "\n",
        "    # Assuming df is your DataFrame\n",
        "    data = {'mass_centre_x': [1, 2, 3, 4, 5],\n",
        "            'target_x': [0, 0, 0, 0, 0]}\n",
        "    df = pd.DataFrame(data)\n",
        "\n",
        "    # Call the update_target_x function\n",
        "    update_target_x('mass_centre_x', 'target_x', df)\n",
        "    ```\n",
        "\n",
        "    This function iterates through the 'm' column in the provided DataFrame and updates the 'n' column. For every 2000th element in the iteration, the corresponding 'n' value is set to NaN. For other elements, 'n' is updated with the value from the next 'm' element.\n",
        "\n",
        "    Parameters:\n",
        "    - 'm' is the column name whose values are used for updating.\n",
        "    - 'n' is the column name to be updated.\n",
        "    - 'df' is the DataFrame containing the specified columns.\n",
        "\n",
        "    Note:\n",
        "    - The function updates the 'n' column in-place.\n",
        "    - Make sure the DataFrame has the specified columns before calling this function.\n",
        "\n",
        "    \"\"\"\n",
        "    for i in range((len(df[m].tolist()) - 1)):\n",
        "        if (i + 1) % 2000 == 0:\n",
        "            df[n][i] = np.nan\n",
        "            continue\n",
        "        df[n][i] = df[m][i+1]"
      ]
    },
    {
      "cell_type": "code",
      "source": [
        "print(df['target_x'][1996])\n",
        "print(df['target_x'][1997])\n",
        "print(df['target_x'][1998])\n",
        "print(df['target_x'][1999])\n"
      ],
      "metadata": {
        "colab": {
          "base_uri": "https://localhost:8080/"
        },
        "id": "urUXlxyp1mWy",
        "outputId": "a4326f35-9da2-4f08-c7f5-158fbe8a1991"
      },
      "id": "urUXlxyp1mWy",
      "execution_count": null,
      "outputs": [
        {
          "output_type": "stream",
          "name": "stdout",
          "text": [
            "0.2782175342715883\n",
            "0.2784069488560485\n",
            "0.2785963634405087\n",
            "nan\n"
          ]
        }
      ]
    },
    {
      "cell_type": "code",
      "execution_count": null,
      "id": "adb2a29b-3f71-460b-afc2-9c265deda43d",
      "metadata": {
        "id": "adb2a29b-3f71-460b-afc2-9c265deda43d"
      },
      "outputs": [],
      "source": [
        "df_1d = df.loc[:, ['r1_x','r2_x','r3_x', 'v1_x', 'v2_x', 'v3_x', 'a1_x', 'a2_x', 'a3_x', 'mass_centre_x', 'mass_centre_vx', 'mass_centre_ax', 'target_x', 't']]\n"
      ]
    },
    {
      "cell_type": "code",
      "execution_count": null,
      "id": "oS-hFzZybtH6",
      "metadata": {
        "id": "oS-hFzZybtH6"
      },
      "outputs": [],
      "source": [
        "df_1d['a2_x'].fillna(0, inplace=True)\n",
        "df_1d['a3_x'].fillna(0, inplace=True)\n",
        "df_1d.isnull().any()"
      ]
    },
    {
      "cell_type": "code",
      "execution_count": null,
      "id": "b237c908-f675-4426-a1ec-1aed422fa794",
      "metadata": {
        "id": "b237c908-f675-4426-a1ec-1aed422fa794"
      },
      "outputs": [],
      "source": [
        "df_1d.corr()"
      ]
    },
    {
      "cell_type": "code",
      "source": [
        "k = 'mass_centre_vx'\n",
        "l = 'mass_centre_x'\n",
        "def periofic_plot(k,l,df):\n",
        "    \"\"\"\n",
        "    Generate periodic scatter plots of specified columns in a DataFrame.\n",
        "\n",
        "    Parameters:\n",
        "    - k (str): The column name for the x-axis in the scatter plots.\n",
        "    - l (str): The column name for the y-axis in the scatter plots.\n",
        "    - df (pd.DataFrame): The input DataFrame containing the specified columns.\n",
        "\n",
        "    Returns:\n",
        "    - None\n",
        "\n",
        "    Example:\n",
        "    ```python\n",
        "    import pandas as pd\n",
        "    import matplotlib.pyplot as plt\n",
        "\n",
        "    # Assuming df is your DataFrame\n",
        "    data = {'mass_centre_vx': [1, 2, 3, 4, 5],\n",
        "            'mass_centre_x': [0, 0, 0, 0, 0]}\n",
        "    df = pd.DataFrame(data)\n",
        "\n",
        "    # Call the periodic_plot function\n",
        "    periodic_plot('mass_centre_vx', 'mass_centre_x', df)\n",
        "    ```\n",
        "\n",
        "    This function generates periodic scatter plots of the specified columns in the provided DataFrame. Each plot corresponds to a subset of the data based on the iteration.\n",
        "\n",
        "    Parameters:\n",
        "    - 'k' and 'l' are the column names for the x-axis and y-axis in the scatter plots.\n",
        "    - 'df' is the DataFrame containing the specified columns.\n",
        "\n",
        "    Note:\n",
        "    - The function uses matplotlib for plotting, so ensure it is installed (`pip install matplotlib`).\n",
        "    - The 'k' and 'l' parameters are the column names, and they should be valid columns in the DataFrame.\n",
        "\n",
        "    \"\"\"\n",
        "    for i in range(0,500):\n",
        "        plt.scatter(df[k].tolist()[0:2000],df[l].tolist()[i * 2000:2000 * (i + 1)])\n",
        "        plt.show()"
      ],
      "metadata": {
        "id": "avZ_JEZBFabN"
      },
      "id": "avZ_JEZBFabN",
      "execution_count": null,
      "outputs": []
    },
    {
      "cell_type": "code",
      "source": [
        "for i in range(0,500):\n",
        "    plt.scatter(df['t'].tolist()[0:2000],df['target_x'].tolist()[i * 2000:2000 * (i + 1)])\n",
        "    plt.show()"
      ],
      "metadata": {
        "id": "-rKiP7YYEMTY"
      },
      "id": "-rKiP7YYEMTY",
      "execution_count": null,
      "outputs": []
    },
    {
      "cell_type": "code",
      "execution_count": null,
      "id": "8b7f54bc-dd79-4f0e-9637-23344bb58e8b",
      "metadata": {
        "id": "8b7f54bc-dd79-4f0e-9637-23344bb58e8b"
      },
      "outputs": [],
      "source": [
        "for i in range(0,500):\n",
        "    plt.scatter(df['t'].tolist()[0:2000],df['mass_centre_vx'].tolist()[i * 2000:2000 * (i + 1)])\n",
        "    plt.show()"
      ]
    },
    {
      "cell_type": "markdown",
      "source": [
        "## Y component"
      ],
      "metadata": {
        "id": "pXz4MrIXaNCX"
      },
      "id": "pXz4MrIXaNCX"
    },
    {
      "cell_type": "code",
      "source": [
        "df['target_y'] = np.nan\n",
        "df['target_y'][0] = df['mass_centre_y'][1]"
      ],
      "metadata": {
        "id": "-Q5t5pciaNCY"
      },
      "execution_count": null,
      "outputs": [],
      "id": "-Q5t5pciaNCY"
    },
    {
      "cell_type": "code",
      "execution_count": null,
      "metadata": {
        "id": "hO9J4EP_aNCZ",
        "colab": {
          "base_uri": "https://localhost:8080/"
        },
        "outputId": "a9aafd6e-76ba-44f4-cff0-44c8814fff66"
      },
      "outputs": [
        {
          "output_type": "stream",
          "name": "stderr",
          "text": [
            "<ipython-input-17-c51f1f9265e3>:5: SettingWithCopyWarning: \n",
            "A value is trying to be set on a copy of a slice from a DataFrame\n",
            "\n",
            "See the caveats in the documentation: https://pandas.pydata.org/pandas-docs/stable/user_guide/indexing.html#returning-a-view-versus-a-copy\n",
            "  df['target_y'][i] = df['mass_centre_y'][i+1]\n",
            "<ipython-input-17-c51f1f9265e3>:3: SettingWithCopyWarning: \n",
            "A value is trying to be set on a copy of a slice from a DataFrame\n",
            "\n",
            "See the caveats in the documentation: https://pandas.pydata.org/pandas-docs/stable/user_guide/indexing.html#returning-a-view-versus-a-copy\n",
            "  df['target_y'][i] = np.nan\n"
          ]
        }
      ],
      "source": [
        "for i in range((len(df['mass_centre_y'].tolist()) - 1)):\n",
        "    if (i + 1) % 2000 == 0:\n",
        "        df['target_y'][i] = np.nan\n",
        "        continue\n",
        "    df['target_y'][i] = df['mass_centre_y'][i+1]"
      ],
      "id": "hO9J4EP_aNCZ"
    },
    {
      "cell_type": "markdown",
      "source": [
        "**Calculating Mass Center Acceleration and Velocity for 1d**"
      ],
      "metadata": {
        "id": "Epu3o31ZaNCa"
      },
      "id": "Epu3o31ZaNCa"
    },
    {
      "cell_type": "code",
      "source": [
        "df['mass_centre_vy'] = (df['v1_y'] + df['v2_y'] + df['v3_y']) / 3\n",
        "df['mass_centre_ay'] = (df['a1_y'] + df['a2_y'] + df['a3_y']) / 3"
      ],
      "metadata": {
        "id": "HOqbRqhMaNCb"
      },
      "execution_count": null,
      "outputs": [],
      "id": "HOqbRqhMaNCb"
    },
    {
      "cell_type": "code",
      "source": [
        "print(df['target_y'][1996])\n",
        "print(df['target_y'][1997])\n",
        "print(df['target_y'][1998])\n",
        "print(df['target_y'][1999])\n"
      ],
      "metadata": {
        "colab": {
          "base_uri": "https://localhost:8080/"
        },
        "outputId": "9575f031-1c42-437a-9528-f52b2f82d055",
        "id": "_ZO6gpq3aNCb"
      },
      "execution_count": null,
      "outputs": [
        {
          "output_type": "stream",
          "name": "stdout",
          "text": [
            "1.4368156331720012\n",
            "1.4373078308401637\n",
            "1.437800028508326\n",
            "nan\n"
          ]
        }
      ],
      "id": "_ZO6gpq3aNCb"
    },
    {
      "cell_type": "code",
      "execution_count": null,
      "metadata": {
        "id": "eGtTykGYaNCc"
      },
      "outputs": [],
      "source": [
        "df_1d_y = df.loc[:, ['r1_y','r2_y','r3_y', 'v1_y', 'v2_y', 'v3_y', 'a1_y', 'a2_y', 'a3_y', 'mass_centre_y', 'mass_centre_vy', 'mass_centre_ay', 'target_y', 't']]\n"
      ],
      "id": "eGtTykGYaNCc"
    },
    {
      "cell_type": "code",
      "execution_count": null,
      "metadata": {
        "id": "b6zjLAPraNCv"
      },
      "outputs": [],
      "source": [
        "df_1d_y['a2_y'].fillna(0, inplace=True)\n",
        "df_1d_y['a3_y'].fillna(0, inplace=True)\n",
        "df_1d_y.isnull().any()"
      ],
      "id": "b6zjLAPraNCv"
    },
    {
      "cell_type": "code",
      "execution_count": null,
      "metadata": {
        "colab": {
          "base_uri": "https://localhost:8080/",
          "height": 613
        },
        "outputId": "84d3e45e-b002-412a-8732-bf1abbbb4737",
        "id": "mgwK12CBaNCw"
      },
      "outputs": [
        {
          "output_type": "execute_result",
          "data": {
            "text/plain": [
              "                    r1_y      r2_y      r3_y      v1_y      v2_y      v3_y  \\\n",
              "r1_y            1.000000  0.116354  0.065647  0.413942  0.168761  0.181883   \n",
              "r2_y            0.116354  1.000000  0.028752  0.123646  0.421531  0.020314   \n",
              "r3_y            0.065647  0.028752  1.000000  0.112840  0.096185  0.424393   \n",
              "v1_y            0.413942  0.123646  0.112840  1.000000  0.071780  0.049227   \n",
              "v2_y            0.168761  0.421531  0.096185  0.071780  1.000000 -0.073744   \n",
              "v3_y            0.181883  0.020314  0.424393  0.049227 -0.073744  1.000000   \n",
              "a1_y           -0.004223  0.001981  0.001607  0.025248 -0.004363 -0.021054   \n",
              "a2_y            0.002618 -0.004494  0.003007 -0.003853  0.023467 -0.018670   \n",
              "a3_y            0.001437  0.001796 -0.003575 -0.017520 -0.014217  0.031160   \n",
              "mass_centre_y   0.660775  0.605937  0.582249  0.358557  0.367608  0.338368   \n",
              "mass_centre_vy  0.434544  0.321786  0.359914  0.636905  0.568262  0.553959   \n",
              "mass_centre_ay  0.000484 -0.000402 -0.000150 -0.001573  0.000429  0.001046   \n",
              "target_y        0.660752  0.605879  0.582214  0.358702  0.367691  0.338488   \n",
              "t              -0.000918  0.010144  0.000211  0.015354 -0.009994 -0.005338   \n",
              "\n",
              "                    a1_y      a2_y      a3_y  mass_centre_y  mass_centre_vy  \\\n",
              "r1_y           -0.004223  0.002618  0.001437       0.660775    4.345441e-01   \n",
              "r2_y            0.001981 -0.004494  0.001796       0.605937    3.217858e-01   \n",
              "r3_y            0.001607  0.003007 -0.003575       0.582249    3.599139e-01   \n",
              "v1_y            0.025248 -0.003853 -0.017520       0.358557    6.369054e-01   \n",
              "v2_y           -0.004363  0.023467 -0.014217       0.367608    5.682620e-01   \n",
              "v3_y           -0.021054 -0.018670  0.031160       0.338368    5.539585e-01   \n",
              "a1_y            1.000000 -0.185444 -0.669093      -0.000494   -9.938405e-05   \n",
              "a2_y           -0.185444  1.000000 -0.606209       0.000714    5.682211e-04   \n",
              "a3_y           -0.669093 -0.606209  1.000000      -0.000140   -3.493081e-04   \n",
              "mass_centre_y  -0.000494  0.000714 -0.000140       1.000000    6.051795e-01   \n",
              "mass_centre_vy -0.000099  0.000568 -0.000349       0.605179    1.000000e+00   \n",
              "mass_centre_ay -0.006616 -0.008465  0.011756      -0.000017   -5.520900e-05   \n",
              "target_y       -0.000493  0.000717 -0.000144       1.000000    6.053922e-01   \n",
              "t              -0.000218  0.000229  0.000003       0.004919   -1.609072e-15   \n",
              "\n",
              "                mass_centre_ay  target_y             t  \n",
              "r1_y                  0.000484  0.660752 -9.177341e-04  \n",
              "r2_y                 -0.000402  0.605879  1.014410e-02  \n",
              "r3_y                 -0.000150  0.582214  2.112741e-04  \n",
              "v1_y                 -0.001573  0.358702  1.535428e-02  \n",
              "v2_y                  0.000429  0.367691 -9.994422e-03  \n",
              "v3_y                  0.001046  0.338488 -5.337972e-03  \n",
              "a1_y                 -0.006616 -0.000493 -2.184879e-04  \n",
              "a2_y                 -0.008465  0.000717  2.293651e-04  \n",
              "a3_y                  0.011756 -0.000144  3.363615e-06  \n",
              "mass_centre_y        -0.000017  1.000000  4.918899e-03  \n",
              "mass_centre_vy       -0.000055  0.605392 -1.609072e-15  \n",
              "mass_centre_ay        1.000000 -0.000024 -3.659764e-05  \n",
              "target_y             -0.000024  1.000000  4.915859e-03  \n",
              "t                    -0.000037  0.004916  1.000000e+00  "
            ],
            "text/html": [
              "\n",
              "  <div id=\"df-6a2ad8c3-c92a-4ceb-90bc-5b86c30afb4f\" class=\"colab-df-container\">\n",
              "    <div>\n",
              "<style scoped>\n",
              "    .dataframe tbody tr th:only-of-type {\n",
              "        vertical-align: middle;\n",
              "    }\n",
              "\n",
              "    .dataframe tbody tr th {\n",
              "        vertical-align: top;\n",
              "    }\n",
              "\n",
              "    .dataframe thead th {\n",
              "        text-align: right;\n",
              "    }\n",
              "</style>\n",
              "<table border=\"1\" class=\"dataframe\">\n",
              "  <thead>\n",
              "    <tr style=\"text-align: right;\">\n",
              "      <th></th>\n",
              "      <th>r1_y</th>\n",
              "      <th>r2_y</th>\n",
              "      <th>r3_y</th>\n",
              "      <th>v1_y</th>\n",
              "      <th>v2_y</th>\n",
              "      <th>v3_y</th>\n",
              "      <th>a1_y</th>\n",
              "      <th>a2_y</th>\n",
              "      <th>a3_y</th>\n",
              "      <th>mass_centre_y</th>\n",
              "      <th>mass_centre_vy</th>\n",
              "      <th>mass_centre_ay</th>\n",
              "      <th>target_y</th>\n",
              "      <th>t</th>\n",
              "    </tr>\n",
              "  </thead>\n",
              "  <tbody>\n",
              "    <tr>\n",
              "      <th>r1_y</th>\n",
              "      <td>1.000000</td>\n",
              "      <td>0.116354</td>\n",
              "      <td>0.065647</td>\n",
              "      <td>0.413942</td>\n",
              "      <td>0.168761</td>\n",
              "      <td>0.181883</td>\n",
              "      <td>-0.004223</td>\n",
              "      <td>0.002618</td>\n",
              "      <td>0.001437</td>\n",
              "      <td>0.660775</td>\n",
              "      <td>4.345441e-01</td>\n",
              "      <td>0.000484</td>\n",
              "      <td>0.660752</td>\n",
              "      <td>-9.177341e-04</td>\n",
              "    </tr>\n",
              "    <tr>\n",
              "      <th>r2_y</th>\n",
              "      <td>0.116354</td>\n",
              "      <td>1.000000</td>\n",
              "      <td>0.028752</td>\n",
              "      <td>0.123646</td>\n",
              "      <td>0.421531</td>\n",
              "      <td>0.020314</td>\n",
              "      <td>0.001981</td>\n",
              "      <td>-0.004494</td>\n",
              "      <td>0.001796</td>\n",
              "      <td>0.605937</td>\n",
              "      <td>3.217858e-01</td>\n",
              "      <td>-0.000402</td>\n",
              "      <td>0.605879</td>\n",
              "      <td>1.014410e-02</td>\n",
              "    </tr>\n",
              "    <tr>\n",
              "      <th>r3_y</th>\n",
              "      <td>0.065647</td>\n",
              "      <td>0.028752</td>\n",
              "      <td>1.000000</td>\n",
              "      <td>0.112840</td>\n",
              "      <td>0.096185</td>\n",
              "      <td>0.424393</td>\n",
              "      <td>0.001607</td>\n",
              "      <td>0.003007</td>\n",
              "      <td>-0.003575</td>\n",
              "      <td>0.582249</td>\n",
              "      <td>3.599139e-01</td>\n",
              "      <td>-0.000150</td>\n",
              "      <td>0.582214</td>\n",
              "      <td>2.112741e-04</td>\n",
              "    </tr>\n",
              "    <tr>\n",
              "      <th>v1_y</th>\n",
              "      <td>0.413942</td>\n",
              "      <td>0.123646</td>\n",
              "      <td>0.112840</td>\n",
              "      <td>1.000000</td>\n",
              "      <td>0.071780</td>\n",
              "      <td>0.049227</td>\n",
              "      <td>0.025248</td>\n",
              "      <td>-0.003853</td>\n",
              "      <td>-0.017520</td>\n",
              "      <td>0.358557</td>\n",
              "      <td>6.369054e-01</td>\n",
              "      <td>-0.001573</td>\n",
              "      <td>0.358702</td>\n",
              "      <td>1.535428e-02</td>\n",
              "    </tr>\n",
              "    <tr>\n",
              "      <th>v2_y</th>\n",
              "      <td>0.168761</td>\n",
              "      <td>0.421531</td>\n",
              "      <td>0.096185</td>\n",
              "      <td>0.071780</td>\n",
              "      <td>1.000000</td>\n",
              "      <td>-0.073744</td>\n",
              "      <td>-0.004363</td>\n",
              "      <td>0.023467</td>\n",
              "      <td>-0.014217</td>\n",
              "      <td>0.367608</td>\n",
              "      <td>5.682620e-01</td>\n",
              "      <td>0.000429</td>\n",
              "      <td>0.367691</td>\n",
              "      <td>-9.994422e-03</td>\n",
              "    </tr>\n",
              "    <tr>\n",
              "      <th>v3_y</th>\n",
              "      <td>0.181883</td>\n",
              "      <td>0.020314</td>\n",
              "      <td>0.424393</td>\n",
              "      <td>0.049227</td>\n",
              "      <td>-0.073744</td>\n",
              "      <td>1.000000</td>\n",
              "      <td>-0.021054</td>\n",
              "      <td>-0.018670</td>\n",
              "      <td>0.031160</td>\n",
              "      <td>0.338368</td>\n",
              "      <td>5.539585e-01</td>\n",
              "      <td>0.001046</td>\n",
              "      <td>0.338488</td>\n",
              "      <td>-5.337972e-03</td>\n",
              "    </tr>\n",
              "    <tr>\n",
              "      <th>a1_y</th>\n",
              "      <td>-0.004223</td>\n",
              "      <td>0.001981</td>\n",
              "      <td>0.001607</td>\n",
              "      <td>0.025248</td>\n",
              "      <td>-0.004363</td>\n",
              "      <td>-0.021054</td>\n",
              "      <td>1.000000</td>\n",
              "      <td>-0.185444</td>\n",
              "      <td>-0.669093</td>\n",
              "      <td>-0.000494</td>\n",
              "      <td>-9.938405e-05</td>\n",
              "      <td>-0.006616</td>\n",
              "      <td>-0.000493</td>\n",
              "      <td>-2.184879e-04</td>\n",
              "    </tr>\n",
              "    <tr>\n",
              "      <th>a2_y</th>\n",
              "      <td>0.002618</td>\n",
              "      <td>-0.004494</td>\n",
              "      <td>0.003007</td>\n",
              "      <td>-0.003853</td>\n",
              "      <td>0.023467</td>\n",
              "      <td>-0.018670</td>\n",
              "      <td>-0.185444</td>\n",
              "      <td>1.000000</td>\n",
              "      <td>-0.606209</td>\n",
              "      <td>0.000714</td>\n",
              "      <td>5.682211e-04</td>\n",
              "      <td>-0.008465</td>\n",
              "      <td>0.000717</td>\n",
              "      <td>2.293651e-04</td>\n",
              "    </tr>\n",
              "    <tr>\n",
              "      <th>a3_y</th>\n",
              "      <td>0.001437</td>\n",
              "      <td>0.001796</td>\n",
              "      <td>-0.003575</td>\n",
              "      <td>-0.017520</td>\n",
              "      <td>-0.014217</td>\n",
              "      <td>0.031160</td>\n",
              "      <td>-0.669093</td>\n",
              "      <td>-0.606209</td>\n",
              "      <td>1.000000</td>\n",
              "      <td>-0.000140</td>\n",
              "      <td>-3.493081e-04</td>\n",
              "      <td>0.011756</td>\n",
              "      <td>-0.000144</td>\n",
              "      <td>3.363615e-06</td>\n",
              "    </tr>\n",
              "    <tr>\n",
              "      <th>mass_centre_y</th>\n",
              "      <td>0.660775</td>\n",
              "      <td>0.605937</td>\n",
              "      <td>0.582249</td>\n",
              "      <td>0.358557</td>\n",
              "      <td>0.367608</td>\n",
              "      <td>0.338368</td>\n",
              "      <td>-0.000494</td>\n",
              "      <td>0.000714</td>\n",
              "      <td>-0.000140</td>\n",
              "      <td>1.000000</td>\n",
              "      <td>6.051795e-01</td>\n",
              "      <td>-0.000017</td>\n",
              "      <td>1.000000</td>\n",
              "      <td>4.918899e-03</td>\n",
              "    </tr>\n",
              "    <tr>\n",
              "      <th>mass_centre_vy</th>\n",
              "      <td>0.434544</td>\n",
              "      <td>0.321786</td>\n",
              "      <td>0.359914</td>\n",
              "      <td>0.636905</td>\n",
              "      <td>0.568262</td>\n",
              "      <td>0.553959</td>\n",
              "      <td>-0.000099</td>\n",
              "      <td>0.000568</td>\n",
              "      <td>-0.000349</td>\n",
              "      <td>0.605179</td>\n",
              "      <td>1.000000e+00</td>\n",
              "      <td>-0.000055</td>\n",
              "      <td>0.605392</td>\n",
              "      <td>-1.609072e-15</td>\n",
              "    </tr>\n",
              "    <tr>\n",
              "      <th>mass_centre_ay</th>\n",
              "      <td>0.000484</td>\n",
              "      <td>-0.000402</td>\n",
              "      <td>-0.000150</td>\n",
              "      <td>-0.001573</td>\n",
              "      <td>0.000429</td>\n",
              "      <td>0.001046</td>\n",
              "      <td>-0.006616</td>\n",
              "      <td>-0.008465</td>\n",
              "      <td>0.011756</td>\n",
              "      <td>-0.000017</td>\n",
              "      <td>-5.520900e-05</td>\n",
              "      <td>1.000000</td>\n",
              "      <td>-0.000024</td>\n",
              "      <td>-3.659764e-05</td>\n",
              "    </tr>\n",
              "    <tr>\n",
              "      <th>target_y</th>\n",
              "      <td>0.660752</td>\n",
              "      <td>0.605879</td>\n",
              "      <td>0.582214</td>\n",
              "      <td>0.358702</td>\n",
              "      <td>0.367691</td>\n",
              "      <td>0.338488</td>\n",
              "      <td>-0.000493</td>\n",
              "      <td>0.000717</td>\n",
              "      <td>-0.000144</td>\n",
              "      <td>1.000000</td>\n",
              "      <td>6.053922e-01</td>\n",
              "      <td>-0.000024</td>\n",
              "      <td>1.000000</td>\n",
              "      <td>4.915859e-03</td>\n",
              "    </tr>\n",
              "    <tr>\n",
              "      <th>t</th>\n",
              "      <td>-0.000918</td>\n",
              "      <td>0.010144</td>\n",
              "      <td>0.000211</td>\n",
              "      <td>0.015354</td>\n",
              "      <td>-0.009994</td>\n",
              "      <td>-0.005338</td>\n",
              "      <td>-0.000218</td>\n",
              "      <td>0.000229</td>\n",
              "      <td>0.000003</td>\n",
              "      <td>0.004919</td>\n",
              "      <td>-1.609072e-15</td>\n",
              "      <td>-0.000037</td>\n",
              "      <td>0.004916</td>\n",
              "      <td>1.000000e+00</td>\n",
              "    </tr>\n",
              "  </tbody>\n",
              "</table>\n",
              "</div>\n",
              "    <div class=\"colab-df-buttons\">\n",
              "\n",
              "  <div class=\"colab-df-container\">\n",
              "    <button class=\"colab-df-convert\" onclick=\"convertToInteractive('df-6a2ad8c3-c92a-4ceb-90bc-5b86c30afb4f')\"\n",
              "            title=\"Convert this dataframe to an interactive table.\"\n",
              "            style=\"display:none;\">\n",
              "\n",
              "  <svg xmlns=\"http://www.w3.org/2000/svg\" height=\"24px\" viewBox=\"0 -960 960 960\">\n",
              "    <path d=\"M120-120v-720h720v720H120Zm60-500h600v-160H180v160Zm220 220h160v-160H400v160Zm0 220h160v-160H400v160ZM180-400h160v-160H180v160Zm440 0h160v-160H620v160ZM180-180h160v-160H180v160Zm440 0h160v-160H620v160Z\"/>\n",
              "  </svg>\n",
              "    </button>\n",
              "\n",
              "  <style>\n",
              "    .colab-df-container {\n",
              "      display:flex;\n",
              "      gap: 12px;\n",
              "    }\n",
              "\n",
              "    .colab-df-convert {\n",
              "      background-color: #E8F0FE;\n",
              "      border: none;\n",
              "      border-radius: 50%;\n",
              "      cursor: pointer;\n",
              "      display: none;\n",
              "      fill: #1967D2;\n",
              "      height: 32px;\n",
              "      padding: 0 0 0 0;\n",
              "      width: 32px;\n",
              "    }\n",
              "\n",
              "    .colab-df-convert:hover {\n",
              "      background-color: #E2EBFA;\n",
              "      box-shadow: 0px 1px 2px rgba(60, 64, 67, 0.3), 0px 1px 3px 1px rgba(60, 64, 67, 0.15);\n",
              "      fill: #174EA6;\n",
              "    }\n",
              "\n",
              "    .colab-df-buttons div {\n",
              "      margin-bottom: 4px;\n",
              "    }\n",
              "\n",
              "    [theme=dark] .colab-df-convert {\n",
              "      background-color: #3B4455;\n",
              "      fill: #D2E3FC;\n",
              "    }\n",
              "\n",
              "    [theme=dark] .colab-df-convert:hover {\n",
              "      background-color: #434B5C;\n",
              "      box-shadow: 0px 1px 3px 1px rgba(0, 0, 0, 0.15);\n",
              "      filter: drop-shadow(0px 1px 2px rgba(0, 0, 0, 0.3));\n",
              "      fill: #FFFFFF;\n",
              "    }\n",
              "  </style>\n",
              "\n",
              "    <script>\n",
              "      const buttonEl =\n",
              "        document.querySelector('#df-6a2ad8c3-c92a-4ceb-90bc-5b86c30afb4f button.colab-df-convert');\n",
              "      buttonEl.style.display =\n",
              "        google.colab.kernel.accessAllowed ? 'block' : 'none';\n",
              "\n",
              "      async function convertToInteractive(key) {\n",
              "        const element = document.querySelector('#df-6a2ad8c3-c92a-4ceb-90bc-5b86c30afb4f');\n",
              "        const dataTable =\n",
              "          await google.colab.kernel.invokeFunction('convertToInteractive',\n",
              "                                                    [key], {});\n",
              "        if (!dataTable) return;\n",
              "\n",
              "        const docLinkHtml = 'Like what you see? Visit the ' +\n",
              "          '<a target=\"_blank\" href=https://colab.research.google.com/notebooks/data_table.ipynb>data table notebook</a>'\n",
              "          + ' to learn more about interactive tables.';\n",
              "        element.innerHTML = '';\n",
              "        dataTable['output_type'] = 'display_data';\n",
              "        await google.colab.output.renderOutput(dataTable, element);\n",
              "        const docLink = document.createElement('div');\n",
              "        docLink.innerHTML = docLinkHtml;\n",
              "        element.appendChild(docLink);\n",
              "      }\n",
              "    </script>\n",
              "  </div>\n",
              "\n",
              "\n",
              "<div id=\"df-f4551b84-9970-4780-8e43-d83f8941c626\">\n",
              "  <button class=\"colab-df-quickchart\" onclick=\"quickchart('df-f4551b84-9970-4780-8e43-d83f8941c626')\"\n",
              "            title=\"Suggest charts\"\n",
              "            style=\"display:none;\">\n",
              "\n",
              "<svg xmlns=\"http://www.w3.org/2000/svg\" height=\"24px\"viewBox=\"0 0 24 24\"\n",
              "     width=\"24px\">\n",
              "    <g>\n",
              "        <path d=\"M19 3H5c-1.1 0-2 .9-2 2v14c0 1.1.9 2 2 2h14c1.1 0 2-.9 2-2V5c0-1.1-.9-2-2-2zM9 17H7v-7h2v7zm4 0h-2V7h2v10zm4 0h-2v-4h2v4z\"/>\n",
              "    </g>\n",
              "</svg>\n",
              "  </button>\n",
              "\n",
              "<style>\n",
              "  .colab-df-quickchart {\n",
              "      --bg-color: #E8F0FE;\n",
              "      --fill-color: #1967D2;\n",
              "      --hover-bg-color: #E2EBFA;\n",
              "      --hover-fill-color: #174EA6;\n",
              "      --disabled-fill-color: #AAA;\n",
              "      --disabled-bg-color: #DDD;\n",
              "  }\n",
              "\n",
              "  [theme=dark] .colab-df-quickchart {\n",
              "      --bg-color: #3B4455;\n",
              "      --fill-color: #D2E3FC;\n",
              "      --hover-bg-color: #434B5C;\n",
              "      --hover-fill-color: #FFFFFF;\n",
              "      --disabled-bg-color: #3B4455;\n",
              "      --disabled-fill-color: #666;\n",
              "  }\n",
              "\n",
              "  .colab-df-quickchart {\n",
              "    background-color: var(--bg-color);\n",
              "    border: none;\n",
              "    border-radius: 50%;\n",
              "    cursor: pointer;\n",
              "    display: none;\n",
              "    fill: var(--fill-color);\n",
              "    height: 32px;\n",
              "    padding: 0;\n",
              "    width: 32px;\n",
              "  }\n",
              "\n",
              "  .colab-df-quickchart:hover {\n",
              "    background-color: var(--hover-bg-color);\n",
              "    box-shadow: 0 1px 2px rgba(60, 64, 67, 0.3), 0 1px 3px 1px rgba(60, 64, 67, 0.15);\n",
              "    fill: var(--button-hover-fill-color);\n",
              "  }\n",
              "\n",
              "  .colab-df-quickchart-complete:disabled,\n",
              "  .colab-df-quickchart-complete:disabled:hover {\n",
              "    background-color: var(--disabled-bg-color);\n",
              "    fill: var(--disabled-fill-color);\n",
              "    box-shadow: none;\n",
              "  }\n",
              "\n",
              "  .colab-df-spinner {\n",
              "    border: 2px solid var(--fill-color);\n",
              "    border-color: transparent;\n",
              "    border-bottom-color: var(--fill-color);\n",
              "    animation:\n",
              "      spin 1s steps(1) infinite;\n",
              "  }\n",
              "\n",
              "  @keyframes spin {\n",
              "    0% {\n",
              "      border-color: transparent;\n",
              "      border-bottom-color: var(--fill-color);\n",
              "      border-left-color: var(--fill-color);\n",
              "    }\n",
              "    20% {\n",
              "      border-color: transparent;\n",
              "      border-left-color: var(--fill-color);\n",
              "      border-top-color: var(--fill-color);\n",
              "    }\n",
              "    30% {\n",
              "      border-color: transparent;\n",
              "      border-left-color: var(--fill-color);\n",
              "      border-top-color: var(--fill-color);\n",
              "      border-right-color: var(--fill-color);\n",
              "    }\n",
              "    40% {\n",
              "      border-color: transparent;\n",
              "      border-right-color: var(--fill-color);\n",
              "      border-top-color: var(--fill-color);\n",
              "    }\n",
              "    60% {\n",
              "      border-color: transparent;\n",
              "      border-right-color: var(--fill-color);\n",
              "    }\n",
              "    80% {\n",
              "      border-color: transparent;\n",
              "      border-right-color: var(--fill-color);\n",
              "      border-bottom-color: var(--fill-color);\n",
              "    }\n",
              "    90% {\n",
              "      border-color: transparent;\n",
              "      border-bottom-color: var(--fill-color);\n",
              "    }\n",
              "  }\n",
              "</style>\n",
              "\n",
              "  <script>\n",
              "    async function quickchart(key) {\n",
              "      const quickchartButtonEl =\n",
              "        document.querySelector('#' + key + ' button');\n",
              "      quickchartButtonEl.disabled = true;  // To prevent multiple clicks.\n",
              "      quickchartButtonEl.classList.add('colab-df-spinner');\n",
              "      try {\n",
              "        const charts = await google.colab.kernel.invokeFunction(\n",
              "            'suggestCharts', [key], {});\n",
              "      } catch (error) {\n",
              "        console.error('Error during call to suggestCharts:', error);\n",
              "      }\n",
              "      quickchartButtonEl.classList.remove('colab-df-spinner');\n",
              "      quickchartButtonEl.classList.add('colab-df-quickchart-complete');\n",
              "    }\n",
              "    (() => {\n",
              "      let quickchartButtonEl =\n",
              "        document.querySelector('#df-f4551b84-9970-4780-8e43-d83f8941c626 button');\n",
              "      quickchartButtonEl.style.display =\n",
              "        google.colab.kernel.accessAllowed ? 'block' : 'none';\n",
              "    })();\n",
              "  </script>\n",
              "</div>\n",
              "\n",
              "    </div>\n",
              "  </div>\n"
            ]
          },
          "metadata": {},
          "execution_count": 22
        }
      ],
      "source": [
        "df_1d_y.corr()"
      ],
      "id": "mgwK12CBaNCw"
    },
    {
      "cell_type": "code",
      "source": [
        "for i in range(0,500):\n",
        "    plt.scatter(df['t'].tolist()[0:2000],df['target_y'].tolist()[i * 2000:2000 * (i + 1)])\n",
        "    plt.show()"
      ],
      "metadata": {
        "id": "T6hFJujdaNC0"
      },
      "execution_count": null,
      "outputs": [],
      "id": "T6hFJujdaNC0"
    },
    {
      "cell_type": "code",
      "execution_count": null,
      "metadata": {
        "id": "xLYRLiyMaNC1"
      },
      "outputs": [],
      "source": [
        "for i in range(0,500):\n",
        "    plt.scatter(df['t'].tolist()[0:2000],df['mass_centre_vy'].tolist()[i * 2000:2000 * (i + 1)])\n",
        "    plt.show()"
      ],
      "id": "xLYRLiyMaNC1"
    },
    {
      "cell_type": "code",
      "source": [],
      "metadata": {
        "id": "rGDACmmHaEL3"
      },
      "id": "rGDACmmHaEL3",
      "execution_count": null,
      "outputs": []
    },
    {
      "cell_type": "code",
      "source": [],
      "metadata": {
        "id": "JECS7HRWoDxh"
      },
      "id": "JECS7HRWoDxh",
      "execution_count": null,
      "outputs": []
    },
    {
      "cell_type": "markdown",
      "source": [
        "## Z component"
      ],
      "metadata": {
        "id": "aueoVN8XhK5L"
      },
      "id": "aueoVN8XhK5L"
    },
    {
      "cell_type": "code",
      "source": [
        "df['target_z'] = np.nan\n",
        "df['target_z'][0] = df['mass_centre_z'][1]"
      ],
      "metadata": {
        "id": "f_kSzClMhK5Y",
        "colab": {
          "base_uri": "https://localhost:8080/"
        },
        "outputId": "1a99edd7-6abc-4e91-b6a8-7eb20ad491e0"
      },
      "execution_count": null,
      "outputs": [
        {
          "output_type": "stream",
          "name": "stderr",
          "text": [
            "<ipython-input-24-a34567b0f9a2>:2: SettingWithCopyWarning: \n",
            "A value is trying to be set on a copy of a slice from a DataFrame\n",
            "\n",
            "See the caveats in the documentation: https://pandas.pydata.org/pandas-docs/stable/user_guide/indexing.html#returning-a-view-versus-a-copy\n",
            "  df['target_z'][0] = df['mass_centre_z'][1]\n"
          ]
        }
      ],
      "id": "f_kSzClMhK5Y"
    },
    {
      "cell_type": "code",
      "execution_count": null,
      "metadata": {
        "id": "ut0Ap4nUhK5Y",
        "colab": {
          "base_uri": "https://localhost:8080/"
        },
        "outputId": "96358fe1-23ee-483f-b8e7-bb9d6f8b0513"
      },
      "outputs": [
        {
          "output_type": "stream",
          "name": "stderr",
          "text": [
            "<ipython-input-25-e6908d91451d>:5: SettingWithCopyWarning: \n",
            "A value is trying to be set on a copy of a slice from a DataFrame\n",
            "\n",
            "See the caveats in the documentation: https://pandas.pydata.org/pandas-docs/stable/user_guide/indexing.html#returning-a-view-versus-a-copy\n",
            "  df['target_z'][i] = df['mass_centre_z'][i+1]\n",
            "<ipython-input-25-e6908d91451d>:3: SettingWithCopyWarning: \n",
            "A value is trying to be set on a copy of a slice from a DataFrame\n",
            "\n",
            "See the caveats in the documentation: https://pandas.pydata.org/pandas-docs/stable/user_guide/indexing.html#returning-a-view-versus-a-copy\n",
            "  df['target_z'][i] = np.nan\n"
          ]
        }
      ],
      "source": [
        "for i in range((len(df['mass_centre_z'].tolist()) - 1)):\n",
        "    if (i + 1) % 2000 == 0:\n",
        "        df['target_z'][i] = np.nan\n",
        "        continue\n",
        "    df['target_z'][i] = df['mass_centre_z'][i+1]"
      ],
      "id": "ut0Ap4nUhK5Y"
    },
    {
      "cell_type": "code",
      "source": [
        "print(df['target_z'][1996])\n",
        "print(df['target_z'][1997])\n",
        "print(df['target_z'][1998])\n",
        "print(df['target_z'][1999])\n"
      ],
      "metadata": {
        "colab": {
          "base_uri": "https://localhost:8080/"
        },
        "outputId": "9526de50-489f-4af4-ff44-083d2b8e4743",
        "id": "D2Ph8_MVhK5Z"
      },
      "execution_count": null,
      "outputs": [
        {
          "output_type": "stream",
          "name": "stdout",
          "text": [
            "1.079168142928183\n",
            "1.0795466648009489\n",
            "1.0799251866737147\n",
            "nan\n"
          ]
        }
      ],
      "id": "D2Ph8_MVhK5Z"
    },
    {
      "cell_type": "code",
      "execution_count": null,
      "metadata": {
        "id": "SPWMQcOnhK5Z"
      },
      "outputs": [],
      "source": [
        "df_1d_z = df.loc[:, ['r1_z','r2_z','r3_z', 'v1_z', 'v2_z', 'v3_z', 'a1_z', 'a2_z',\n",
        "        'a3_z', 'mass_centre_z', 'mass_centre_vz', 'mass_centre_az', 'target_z', 't']]\n"
      ],
      "id": "SPWMQcOnhK5Z"
    },
    {
      "cell_type": "code",
      "execution_count": null,
      "metadata": {
        "id": "PMoPWv8PhK5Z"
      },
      "outputs": [],
      "source": [
        "df_1d_z['a2_z'].fillna(0, inplace=True)\n",
        "df_1d_z['a3_z'].fillna(0, inplace=True)\n",
        "df_1d_z.isnull().any()"
      ],
      "id": "PMoPWv8PhK5Z"
    },
    {
      "cell_type": "code",
      "execution_count": null,
      "metadata": {
        "id": "wrV_MFIuhK5a"
      },
      "outputs": [],
      "source": [
        "df_1d_z.corr()"
      ],
      "id": "wrV_MFIuhK5a"
    },
    {
      "cell_type": "code",
      "source": [
        "for i in range(0,500):\n",
        "    plt.scatter(df['mass_centre_vz'].tolist()[0:2000],df['mass_centre_z'].tolist()[i * 2000:2000 * (i + 1)])\n",
        "    plt.show()"
      ],
      "metadata": {
        "id": "uJTkCLDphK5a"
      },
      "execution_count": null,
      "outputs": [],
      "id": "uJTkCLDphK5a"
    },
    {
      "cell_type": "code",
      "source": [
        "for i in range(0,500):\n",
        "    plt.scatter(df['t'].tolist()[0:2000],df['target_z'].tolist()[i * 2000:2000 * (i + 1)])\n",
        "    plt.show()"
      ],
      "metadata": {
        "id": "1ew799c_hK5b"
      },
      "execution_count": null,
      "outputs": [],
      "id": "1ew799c_hK5b"
    },
    {
      "cell_type": "code",
      "execution_count": null,
      "metadata": {
        "id": "Oq9lzibThK5b"
      },
      "outputs": [],
      "source": [
        "for i in range(0,500):\n",
        "    plt.scatter(df['t'].tolist()[0:2000],df['mass_centre_vz'].tolist()[i * 2000:2000 * (i + 1)])\n",
        "    plt.show()"
      ],
      "id": "Oq9lzibThK5b"
    },
    {
      "cell_type": "code",
      "source": [],
      "metadata": {
        "id": "o_ARreGKmg2J"
      },
      "id": "o_ARreGKmg2J",
      "execution_count": null,
      "outputs": []
    },
    {
      "cell_type": "markdown",
      "source": [
        "# Adding Physics"
      ],
      "metadata": {
        "id": "VVrJF9pQsxEw"
      },
      "id": "VVrJF9pQsxEw"
    },
    {
      "cell_type": "markdown",
      "source": [
        "# Visualizing Motion in 2d"
      ],
      "metadata": {
        "id": "Ot6RwusaqYY3"
      },
      "id": "Ot6RwusaqYY3"
    },
    {
      "cell_type": "code",
      "source": [
        "df.columns"
      ],
      "metadata": {
        "colab": {
          "base_uri": "https://localhost:8080/"
        },
        "id": "zJ0pJ7NLqi07",
        "outputId": "7eb2c2de-f991-4845-91ab-924c117d3344"
      },
      "id": "zJ0pJ7NLqi07",
      "execution_count": null,
      "outputs": [
        {
          "output_type": "execute_result",
          "data": {
            "text/plain": [
              "Index(['r1_x', 'r1_y', 'r1_z', 'r2_x', 'r2_y', 'r2_z', 'r3_x', 'r3_y', 'r3_z',\n",
              "       'v1_x', 'v1_y', 'v1_z', 'v2_x', 'v2_y', 'v2_z', 'v3_x', 'v3_y', 'v3_z',\n",
              "       'a1_x', 'a1_y', 'a1_z', 'a2_x', 'a2_y', 'a2_z', 'a3_x', 'a3_y', 'a3_z',\n",
              "       't', 'mass_centre_x', 'mass_centre_y', 'mass_centre_z',\n",
              "       'mass_centre_vx', 'mass_centre_ax', 'mass_centre_vy', 'mass_centre_ay',\n",
              "       'mass_centre_vz', 'mass_centre_az', 'mass_centre_v', 'target_x',\n",
              "       'target_y', 'target_z'],\n",
              "      dtype='object')"
            ]
          },
          "metadata": {},
          "execution_count": 30
        }
      ]
    },
    {
      "cell_type": "code",
      "source": [
        "df['mass_centre_r'] = np.sqrt((df['mass_centre_x']**2) +\n",
        "                      (df['mass_centre_y']**2) + (df['mass_centre_z']**2))"
      ],
      "metadata": {
        "id": "OkjITNuTqzdu"
      },
      "id": "OkjITNuTqzdu",
      "execution_count": null,
      "outputs": []
    },
    {
      "cell_type": "code",
      "source": [
        "plt.scatter(df['t'].tolist()[:2000], df['mass_centre_r'].tolist()[:2000])"
      ],
      "metadata": {
        "id": "CjjJPV-Erxqx"
      },
      "id": "CjjJPV-Erxqx",
      "execution_count": null,
      "outputs": []
    },
    {
      "cell_type": "code",
      "execution_count": null,
      "metadata": {
        "id": "0d75d8d1-8121-48c3-a5f7-94496db1466c"
      },
      "outputs": [],
      "source": [
        "plt.scatter((np.sqrt((df['r1_x'])**2 + (df['r1_y'])**2\n",
        "            + (df['r1_z'])**2)).tolist()[:2000], df['t'].tolist()[:2000])\n",
        "plt.scatter((np.sqrt((df['r2_x'])**2 + (df['r2_y'])**2\n",
        "            + (df['r2_z'])**2)).tolist()[:2000], df['t'].tolist()[:2000])\n",
        "plt.scatter((np.sqrt((df['r3_x'])**2 + (df['r3_y'])**2\n",
        "            + (df['r3_z'])**2)).tolist()[:2000], df['t'].tolist()[:2000])\n"
      ],
      "id": "0d75d8d1-8121-48c3-a5f7-94496db1466c"
    },
    {
      "cell_type": "markdown",
      "source": [
        "### Creating animation"
      ],
      "metadata": {
        "id": "QnhkyzXQxKrS"
      },
      "id": "QnhkyzXQxKrS"
    },
    {
      "cell_type": "code",
      "source": [
        "from matplotlib.animation import PillowWriter\n",
        "fig = plt.figure()\n",
        "l, = plt.plot([],[],'k-')\n",
        "metadata = dict(title='Animation', artist='Erik')\n",
        "writer = PillowWriter(fps=15, metadata=metadata)\n",
        "xlist = []\n",
        "ylist = []\n",
        "with writer.saving(fig, 'Motion.gif', 100):\n",
        "   for index, row in df[:2000].iterrows():\n",
        "        # Add information from col1 to list1\n",
        "        xlist.append(row[\"r1_x\"])\n",
        "        # Add information from col2 to list2\n",
        "        ylist.append(row[\"r1_y\"])\n",
        "        l.set_data(xlist,ylist)\n",
        "        writer.grab_frame()"
      ],
      "metadata": {
        "id": "FdUDo__Hsh0Y"
      },
      "id": "FdUDo__Hsh0Y",
      "execution_count": null,
      "outputs": []
    },
    {
      "cell_type": "code",
      "source": [],
      "metadata": {
        "id": "qPHWijqYA4CD"
      },
      "id": "qPHWijqYA4CD",
      "execution_count": null,
      "outputs": []
    },
    {
      "cell_type": "code",
      "source": [],
      "metadata": {
        "id": "GfKZ-SlgA5Mg"
      },
      "id": "GfKZ-SlgA5Mg",
      "execution_count": null,
      "outputs": []
    }
  ],
  "metadata": {
    "colab": {
      "provenance": []
    },
    "kernelspec": {
      "display_name": "Python 3 (ipykernel)",
      "language": "python",
      "name": "python3"
    },
    "language_info": {
      "codemirror_mode": {
        "name": "ipython",
        "version": 3
      },
      "file_extension": ".py",
      "mimetype": "text/x-python",
      "name": "python",
      "nbconvert_exporter": "python",
      "pygments_lexer": "ipython3",
      "version": "3.10.12"
    }
  },
  "nbformat": 4,
  "nbformat_minor": 5
}